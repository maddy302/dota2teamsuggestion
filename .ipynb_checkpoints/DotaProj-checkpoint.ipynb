{
 "cells": [
  {
   "cell_type": "code",
   "execution_count": 13,
   "metadata": {
    "collapsed": false
   },
   "outputs": [
    {
     "name": "stdout",
     "output_type": "stream",
     "text": [
      "[(145123452.0, u'2016-01-01', u'Python', 5.0)]\n",
      "Hello World\n"
     ]
    }
   ],
   "source": [
    "import argparse\n",
    "import time\n",
    "import json\n",
    "import logging\n",
    "from threading import Thread\n",
    "\n",
    "\n",
    "import dota2api\n",
    "import requests\n",
    "\n",
    "import sqlite3\n",
    "conn = sqlite3.connect('tutorial')\n",
    "c = conn.cursor()\n",
    "def create_table():\n",
    "    c.execute('create table if not exists stuffToPlot (unix Real, datestamp  text, keyword text , value real)')\n",
    "\n",
    "def data_entry():\n",
    "    c.execute(\"INSERT INTO stuffToPlot VALUES (145123452, '2016-01-01','Python',5)\")\n",
    "    conn.commit()\n",
    "\n",
    "\n",
    "def data_fetch():\n",
    "    c.execute(\"select * from stuffToPlot\")\n",
    "    data = c.fetchall()\n",
    "    print(data)\n",
    "    \n",
    "def delete_all():\n",
    "    c.execute(\"delete from stuffToPlot\")\n",
    "def close_con():\n",
    "    c.close()\n",
    "    conn.close()\n",
    "create_table()\n",
    "delete_all()\n",
    "data_entry()\n",
    "data_fetch()\n",
    "close_con()\n",
    "\n",
    "\t\n",
    "print('Hello World')"
   ]
  },
  {
   "cell_type": "code",
   "execution_count": 18,
   "metadata": {
    "collapsed": false
   },
   "outputs": [
    {
     "name": "stdout",
     "output_type": "stream",
     "text": [
      "Hello WOrld\n",
      "inside do_match_history\n",
      "Inside do_match_details\n",
      "Starting MatchHistory and MatchDetails threads.\n"
     ]
    },
    {
     "name": "stderr",
     "output_type": "stream",
     "text": [
      "Exception in thread Thread-8:\n",
      "Traceback (most recent call last):\n",
      "  File \"C:\\Users\\Madhukar\\Anaconda2\\Lib\\threading.py\", line 801, in __bootstrap_inner\n",
      "    self.run()\n",
      "  File \"C:\\Users\\Madhukar\\Anaconda2\\Lib\\threading.py\", line 754, in run\n",
      "    self.__target(*self.__args, **self.__kwargs)\n",
      "  File \"C:\\Users\\Madhukar\\python\\Project Dota\\get_data_1.py\", line 17, in match_history\n",
      "    do_match_history()\n",
      "  File \"C:\\Users\\Madhukar\\python\\Project Dota\\get_data_1.py\", line 40, in do_match_history\n",
      "    matches_requested=100, start_at_match_id=start_at_match_id,)\n",
      "UnboundLocalError: local variable 'start_at_match_id' referenced before assignment\n",
      "\n"
     ]
    },
    {
     "ename": "KeyboardInterrupt",
     "evalue": "",
     "output_type": "error",
     "traceback": [
      "\u001b[0;31m---------------------------------------------------------------------------\u001b[0m",
      "\u001b[0;31mKeyboardInterrupt\u001b[0m                         Traceback (most recent call last)",
      "\u001b[0;32mC:\\Users\\Madhukar\\python\\Project Dota\\get_data_1.py\u001b[0m in \u001b[0;36m<module>\u001b[0;34m()\u001b[0m\n\u001b[1;32m    116\u001b[0m \u001b[1;31m# This is needed (instead of joining the threads) to respond to crl-c\u001b[0m\u001b[1;33m\u001b[0m\u001b[1;33m\u001b[0m\u001b[0m\n\u001b[1;32m    117\u001b[0m \u001b[1;32mwhile\u001b[0m \u001b[0mTrue\u001b[0m\u001b[1;33m:\u001b[0m\u001b[1;33m\u001b[0m\u001b[0m\n\u001b[0;32m--> 118\u001b[0;31m     \u001b[0mtime\u001b[0m\u001b[1;33m.\u001b[0m\u001b[0msleep\u001b[0m\u001b[1;33m(\u001b[0m\u001b[1;36m1\u001b[0m\u001b[1;33m)\u001b[0m\u001b[1;33m\u001b[0m\u001b[0m\n\u001b[0m\u001b[1;32m    119\u001b[0m \u001b[1;33m\u001b[0m\u001b[0m\n",
      "\u001b[0;31mKeyboardInterrupt\u001b[0m: "
     ]
    }
   ],
   "source": [
    "%run hello.py\n",
    "%run get_data_1.py"
   ]
  }
 ],
 "metadata": {
  "anaconda-cloud": {},
  "kernelspec": {
   "display_name": "Python [default]",
   "language": "python",
   "name": "python2"
  },
  "language_info": {
   "codemirror_mode": {
    "name": "ipython",
    "version": 2
   },
   "file_extension": ".py",
   "mimetype": "text/x-python",
   "name": "python",
   "nbconvert_exporter": "python",
   "pygments_lexer": "ipython2",
   "version": "2.7.12"
  }
 },
 "nbformat": 4,
 "nbformat_minor": 1
}
