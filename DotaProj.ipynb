{
 "cells": [
  {
   "cell_type": "code",
   "execution_count": 13,
   "metadata": {
    "collapsed": false
   },
   "outputs": [
    {
     "name": "stdout",
     "output_type": "stream",
     "text": [
      "[(145123452.0, u'2016-01-01', u'Python', 5.0)]\n",
      "Hello World\n"
     ]
    }
   ],
   "source": [
    "import argparse\n",
    "import time\n",
    "import json\n",
    "import logging\n",
    "from threading import Thread\n",
    "\n",
    "\n",
    "import dota2api\n",
    "import requests\n",
    "\n",
    "import sqlite3\n",
    "conn = sqlite3.connect('tutorial')\n",
    "c = conn.cursor()\n",
    "def create_table():\n",
    "    c.execute('create table if not exists stuffToPlot (unix Real, datestamp  text, keyword text , value real)')\n",
    "\n",
    "def data_entry():\n",
    "    c.execute(\"INSERT INTO stuffToPlot VALUES (145123452, '2016-01-01','Python',5)\")\n",
    "    conn.commit()\n",
    "\n",
    "\n",
    "def data_fetch():\n",
    "    c.execute(\"select * from stuffToPlot\")\n",
    "    data = c.fetchall()\n",
    "    print(data)\n",
    "    \n",
    "def delete_all():\n",
    "    c.execute(\"delete from stuffToPlot\")\n",
    "def close_con():\n",
    "    c.close()\n",
    "    conn.close()\n",
    "create_table()\n",
    "delete_all()\n",
    "data_entry()\n",
    "data_fetch()\n",
    "close_con()\n",
    "\n",
    "\t\n",
    "print('Hello World')"
   ]
  },
  {
   "cell_type": "code",
   "execution_count": 21,
   "metadata": {
    "collapsed": false
   },
   "outputs": [
    {
     "name": "stdout",
     "output_type": "stream",
     "text": [
      "Hello WOrld\n",
      "Inside match_details\n",
      "Inside do_match_details\n"
     ]
    }
   ],
   "source": [
    "%run hello.py\n",
    "#%run get_data_1.py"
   ]
  },
  {
   "cell_type": "code",
   "execution_count": 20,
   "metadata": {
    "collapsed": false
   },
   "outputs": [
    {
     "name": "stdout",
     "output_type": "stream",
     "text": [
      "('Match History', 'dsfgdshjf')\n",
      "Inside match_details\n",
      "Inside do_match_details\n",
      "Inside match_details\n",
      "Inside do_match_details\n"
     ]
    }
   ],
   "source": [
    "def match_history(k):\n",
    "    print('Match History',k)\n",
    "\n",
    "match_history('dsfgdshjf')\n",
    "\n",
    "    "
   ]
  }
 ],
 "metadata": {
  "anaconda-cloud": {},
  "kernelspec": {
   "display_name": "Python [default]",
   "language": "python",
   "name": "python2"
  },
  "language_info": {
   "codemirror_mode": {
    "name": "ipython",
    "version": 2
   },
   "file_extension": ".py",
   "mimetype": "text/x-python",
   "name": "python",
   "nbconvert_exporter": "python",
   "pygments_lexer": "ipython2",
   "version": "2.7.12"
  }
 },
 "nbformat": 4,
 "nbformat_minor": 1
}
